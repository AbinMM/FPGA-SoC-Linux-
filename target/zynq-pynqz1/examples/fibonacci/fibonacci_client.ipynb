{
 "cells": [
  {
   "cell_type": "code",
   "execution_count": 1,
   "metadata": {
    "collapsed": false,
    "deletable": true,
    "editable": true
   },
   "outputs": [],
   "source": [
    "import msgpackrpc"
   ]
  },
  {
   "cell_type": "code",
   "execution_count": 2,
   "metadata": {
    "collapsed": true,
    "deletable": true,
    "editable": true
   },
   "outputs": [],
   "source": [
    "cli = msgpackrpc.Client(msgpackrpc.Address('127.0.0.1', 54321))"
   ]
  },
  {
   "cell_type": "code",
   "execution_count": 3,
   "metadata": {
    "collapsed": false,
    "deletable": true,
    "editable": true,
    "scrolled": true
   },
   "outputs": [
    {
     "name": "stdout",
     "output_type": "stream",
     "text": [
      "0 => 0\n",
      "1 => 1\n",
      "2 => 1\n",
      "3 => 2\n",
      "4 => 3\n",
      "5 => 5\n",
      "6 => 8\n",
      "7 => 13\n",
      "8 => 21\n",
      "9 => 34\n",
      "10 => 55\n",
      "11 => 89\n",
      "12 => 144\n",
      "13 => 233\n",
      "14 => 377\n",
      "15 => 610\n",
      "16 => 987\n",
      "17 => 1597\n",
      "18 => 2584\n",
      "19 => 4181\n",
      "20 => 6765\n",
      "21 => 10946\n",
      "22 => 17711\n",
      "23 => 28657\n",
      "24 => 46368\n",
      "25 => 75025\n",
      "26 => 121393\n",
      "27 => 196418\n",
      "28 => 317811\n",
      "29 => 514229\n",
      "30 => 832040\n",
      "31 => 1346269\n",
      "32 => 2178309\n",
      "33 => 3524578\n",
      "34 => 5702887\n",
      "35 => 9227465\n",
      "36 => 14930352\n",
      "37 => 24157817\n",
      "38 => 39088169\n",
      "39 => 63245986\n",
      "40 => 102334155\n",
      "41 => 165580141\n",
      "42 => 267914296\n",
      "43 => 433494437\n"
     ]
    }
   ],
   "source": [
    "for i in range(44):\n",
    "    result = cli.call('fib',i)\n",
    "    print(\"%d => %d\" % (i,result))"
   ]
  },
  {
   "cell_type": "code",
   "execution_count": 4,
   "metadata": {
    "collapsed": false,
    "deletable": true,
    "editable": true
   },
   "outputs": [],
   "source": [
    "cli.close()"
   ]
  },
  {
   "cell_type": "code",
   "execution_count": null,
   "metadata": {
    "collapsed": true,
    "deletable": true,
    "editable": true
   },
   "outputs": [],
   "source": []
  }
 ],
 "metadata": {
  "kernelspec": {
   "display_name": "Python 3",
   "language": "python",
   "name": "python3"
  },
  "language_info": {
   "codemirror_mode": {
    "name": "ipython",
    "version": 3
   },
   "file_extension": ".py",
   "mimetype": "text/x-python",
   "name": "python",
   "nbconvert_exporter": "python",
   "pygments_lexer": "ipython3",
   "version": "3.4.2"
  }
 },
 "nbformat": 4,
 "nbformat_minor": 2
}
